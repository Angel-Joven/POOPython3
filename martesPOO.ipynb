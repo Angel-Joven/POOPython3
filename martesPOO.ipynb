{
  "nbformat": 4,
  "nbformat_minor": 0,
  "metadata": {
    "colab": {
      "provenance": [],
      "authorship_tag": "ABX9TyPZ+BkTOwvUT10Y2Nz6qTcG",
      "include_colab_link": true
    },
    "kernelspec": {
      "name": "python3",
      "display_name": "Python 3"
    },
    "language_info": {
      "name": "python"
    }
  },
  "cells": [
    {
      "cell_type": "markdown",
      "metadata": {
        "id": "view-in-github",
        "colab_type": "text"
      },
      "source": [
        "<a href=\"https://colab.research.google.com/github/Angel-Joven/POOPython3/blob/main/martesPOO.ipynb\" target=\"_parent\"><img src=\"https://colab.research.google.com/assets/colab-badge.svg\" alt=\"Open In Colab\"/></a>"
      ]
    },
    {
      "cell_type": "code",
      "execution_count": 34,
      "metadata": {
        "colab": {
          "base_uri": "https://localhost:8080/"
        },
        "id": "5C5Ssl9G8ZQ4",
        "outputId": "cd63552e-ab29-40a4-c84b-5b0c59b13169"
      },
      "outputs": [
        {
          "output_type": "stream",
          "name": "stdout",
          "text": [
            "{'numero_cuenta': 123456, 'carrera': 'ICO', 'direccion': {'calle': 'Rancho seco', 'numero': 23}, 'telefonos': {'0123456789', '9876543210'}}\n"
          ]
        }
      ],
      "source": [
        "# JOVEN JIMENEZ ANGEL CRISTIAN\n",
        "\n",
        "alumno = {'numero_cuenta' : 123456,\n",
        "          'carrera' : 'ICO',\n",
        "          'direccion' : {'calle' : 'Rancho seco', 'numero' : 23},\n",
        "          'telefonos' : {'0123456789','9876543210'}\n",
        "          }\n",
        "\n",
        "print(alumno)"
      ]
    },
    {
      "cell_type": "code",
      "source": [
        "print(alumno['carrera'])\n",
        "\n",
        "print(alumno['direccion'])\n",
        "\n",
        "#Como imprimir el 23 de la direccion\n",
        "print(alumno['direccion']['numero'])\n",
        "\n",
        "#Como imprimir ‘cho’ de la calle\n",
        "print(alumno['direccion']['calle'][3:6:1])\n",
        "\n",
        "print(alumno['telefonos'])\n",
        "\n",
        "print(alumno)\n",
        "\n",
        "alumno['facultad'] = \"Fes Aragon\"\n",
        "\n",
        "print(alumno)"
      ],
      "metadata": {
        "colab": {
          "base_uri": "https://localhost:8080/"
        },
        "id": "niq-1a159GPH",
        "outputId": "667e904c-be05-44a8-f75b-f37f42ecc6f2"
      },
      "execution_count": null,
      "outputs": [
        {
          "output_type": "stream",
          "name": "stdout",
          "text": [
            "ICO\n",
            "{'calle': 'Rancho seco', 'numero': 23}\n",
            "23\n",
            "cho\n",
            "{'0123456789', '9876543210'}\n",
            "{'numero_cuenta': 123456, 'carrera': 'ICO', 'direccion': {'calle': 'Rancho seco', 'numero': 23}, 'telefonos': {'0123456789', '9876543210'}}\n",
            "{'numero_cuenta': 123456, 'carrera': 'ICO', 'direccion': {'calle': 'Rancho seco', 'numero': 23}, 'telefonos': {'0123456789', '9876543210'}, 'facultad': 'Fes Aragon'}\n"
          ]
        }
      ]
    },
    {
      "cell_type": "code",
      "source": [
        "#if\n",
        "edad = 20\n",
        "if edad >= 18:\n",
        "    print(\"Eres mayor de edad.\")\n",
        "    print(\"Otra cosa\")\n",
        "    print(\"Algo mas\")"
      ],
      "metadata": {
        "colab": {
          "base_uri": "https://localhost:8080/"
        },
        "id": "6TsCX20x9GNC",
        "outputId": "3fcb5433-46b4-48a3-ac25-ff07d0947c18"
      },
      "execution_count": 19,
      "outputs": [
        {
          "output_type": "stream",
          "name": "stdout",
          "text": [
            "Eres mayor de edad.\n",
            "Otra cosa\n",
            "Algo mas\n"
          ]
        }
      ]
    },
    {
      "cell_type": "code",
      "source": [
        "# if-else\n",
        "\n",
        "edad = 15\n",
        "if edad >= 18:\n",
        "    print(\"Eres mayor de edad.\")\n",
        "    print(\"Otra cosa\")\n",
        "    print(\"Algo mas\")\n",
        "else:\n",
        "    print(\"Eres menor de edad.\")\n",
        "    print(\"Otra cosa\")\n",
        "    print(\"Algo mas\")"
      ],
      "metadata": {
        "colab": {
          "base_uri": "https://localhost:8080/"
        },
        "id": "UowFSAbC9GKm",
        "outputId": "f8a67eb3-7212-4551-ac62-401aadf17e30"
      },
      "execution_count": 20,
      "outputs": [
        {
          "output_type": "stream",
          "name": "stdout",
          "text": [
            "Eres menor de edad.\n",
            "Otra cosa\n",
            "Algo mas\n"
          ]
        }
      ]
    },
    {
      "cell_type": "code",
      "source": [
        "# if- elif - else\n",
        "edad = 20\n",
        "if edad < 13:\n",
        "    print(\"Eres un niño.\")\n",
        "elif edad < 18:\n",
        "    print(\"Eres un adolescente.\")\n",
        "else:\n",
        "    print(\"Eres un adulto.\")"
      ],
      "metadata": {
        "id": "DlzZWLPA9GIH",
        "colab": {
          "base_uri": "https://localhost:8080/"
        },
        "outputId": "e9f1618b-22f4-4d0f-fa16-79e6ed8e96e7"
      },
      "execution_count": 16,
      "outputs": [
        {
          "output_type": "stream",
          "name": "stdout",
          "text": [
            "Eres un adulto.\n"
          ]
        }
      ]
    },
    {
      "cell_type": "code",
      "source": [
        "# if-elif-elif\n",
        "edad = 20\n",
        "if edad < 13:\n",
        "    print(\"Eres un niño.\")\n",
        "elif edad < 18:\n",
        "    print(\"Eres un adolescente.\")\n",
        "elif edad < 30:\n",
        "    print(\"Eres un joven adulto.\")"
      ],
      "metadata": {
        "id": "9-HL4rJr9GGU",
        "colab": {
          "base_uri": "https://localhost:8080/"
        },
        "outputId": "95da2cb7-cbf3-449c-a8da-c477c2607863"
      },
      "execution_count": 17,
      "outputs": [
        {
          "output_type": "stream",
          "name": "stdout",
          "text": [
            "Eres un joven adulto.\n"
          ]
        }
      ]
    },
    {
      "cell_type": "code",
      "source": [
        "# For   for(int i = 1 ; i<10 ; i++)\n",
        "lim = 20\n",
        "for i in range(1, lim, 1):\n",
        "    print(i)"
      ],
      "metadata": {
        "id": "a2O67uzC9GD8",
        "colab": {
          "base_uri": "https://localhost:8080/"
        },
        "outputId": "df5341cf-62d0-436b-9f40-1124c065fd3c"
      },
      "execution_count": 23,
      "outputs": [
        {
          "output_type": "stream",
          "name": "stdout",
          "text": [
            "1\n",
            "2\n",
            "3\n",
            "4\n",
            "5\n",
            "6\n",
            "7\n",
            "8\n",
            "9\n",
            "10\n",
            "11\n",
            "12\n",
            "13\n",
            "14\n",
            "15\n",
            "16\n",
            "17\n",
            "18\n",
            "19\n"
          ]
        }
      ]
    },
    {
      "cell_type": "code",
      "source": [
        "#for-each\n",
        "frutas = ['piña', 'pera', 'manzana', 'fresa', 'aguacate']\n",
        "for numero in frutas:\n",
        "    print(numero)\n",
        "\n",
        "print(\"------------------------------------\")\n",
        "\n",
        "# break y continue\n",
        "for numero in frutas:\n",
        "    if numero == \"manzana\":\n",
        "        continue   # break ó continue\n",
        "    print(numero)  # imprime la fruta\n",
        "\n",
        "print(\"Fin\")"
      ],
      "metadata": {
        "colab": {
          "base_uri": "https://localhost:8080/"
        },
        "id": "8bj-cMkmBvq0",
        "outputId": "c41d4024-c9a5-4474-a866-f34223afcd28"
      },
      "execution_count": 30,
      "outputs": [
        {
          "output_type": "stream",
          "name": "stdout",
          "text": [
            "piña\n",
            "pera\n",
            "manzana\n",
            "fresa\n",
            "aguacate\n",
            "------------------------------------\n",
            "piña\n",
            "pera\n",
            "fresa\n",
            "aguacate\n",
            "Fin\n"
          ]
        }
      ]
    },
    {
      "cell_type": "code",
      "source": [
        "tam = 0\n",
        "\n",
        "while tam < 10:\n",
        "  print(tam)\n",
        "  tam = int(input(\"Dame un numero entero: \"))\n",
        "print(\"Final\")"
      ],
      "metadata": {
        "id": "NvUS6sI49GBj",
        "colab": {
          "base_uri": "https://localhost:8080/"
        },
        "outputId": "5aa40cb0-d87f-41ec-a803-0e0cfff7c6e8"
      },
      "execution_count": 33,
      "outputs": [
        {
          "output_type": "stream",
          "name": "stdout",
          "text": [
            "0\n",
            "Dame un numero entero: 1\n",
            "1\n",
            "Dame un numero entero: 3\n",
            "3\n",
            "Dame un numero entero: 2\n",
            "2\n",
            "Dame un numero entero: 11\n",
            "Final\n"
          ]
        }
      ]
    },
    {
      "cell_type": "code",
      "source": [],
      "metadata": {
        "id": "FA5B-q4t9Fwl"
      },
      "execution_count": null,
      "outputs": []
    }
  ]
}