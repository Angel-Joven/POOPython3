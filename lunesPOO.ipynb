{
  "nbformat": 4,
  "nbformat_minor": 0,
  "metadata": {
    "colab": {
      "provenance": [],
      "authorship_tag": "ABX9TyOlK1K8pG+3XGKsOnot3W/M",
      "include_colab_link": true
    },
    "kernelspec": {
      "name": "python3",
      "display_name": "Python 3"
    },
    "language_info": {
      "name": "python"
    }
  },
  "cells": [
    {
      "cell_type": "markdown",
      "metadata": {
        "id": "view-in-github",
        "colab_type": "text"
      },
      "source": [
        "<a href=\"https://colab.research.google.com/github/Angel-Joven/POOPython3/blob/main/lunesPOO.ipynb\" target=\"_parent\"><img src=\"https://colab.research.google.com/assets/colab-badge.svg\" alt=\"Open In Colab\"/></a>"
      ]
    },
    {
      "cell_type": "code",
      "execution_count": 81,
      "metadata": {
        "colab": {
          "base_uri": "https://localhost:8080/"
        },
        "id": "hRj-TKpW4K1q",
        "outputId": "56f5f98c-cb1d-4c2d-d0f0-5cfc7b836b1d"
      },
      "outputs": [
        {
          "output_type": "stream",
          "name": "stdout",
          "text": [
            "Hola Mundo\n"
          ]
        }
      ],
      "source": [
        "# JOVEN JIMENEZ ANGEL CRISTIAN\n",
        "\n",
        "# Esto es un comentario\n",
        "print(\"Hola Mundo\")  # Esto imprime \"Hola Mundo\""
      ]
    },
    {
      "cell_type": "code",
      "source": [
        "!ls -a"
      ],
      "metadata": {
        "colab": {
          "base_uri": "https://localhost:8080/"
        },
        "id": "kTOl6xGq6Gpg",
        "outputId": "7c6b38bb-161a-4811-b07e-44262295a7e1"
      },
      "execution_count": 80,
      "outputs": [
        {
          "output_type": "stream",
          "name": "stdout",
          "text": [
            ".  ..  .config\tsample_data\n"
          ]
        }
      ]
    },
    {
      "cell_type": "code",
      "source": [
        "print(\"Hola\", \"Mundo\")\n",
        " \n",
        "print(\"Hola\" + \"Mundo\")\n",
        " \n",
        "print(\"Hola\", \"Mundo\", sep=\"-\")  # Imprime: Hola-Mundo\n",
        " \n",
        "print(\"Hola\", end=\"\")\n",
        "print(\"Mundo\")  # Imprime: HolaMundo"
      ],
      "metadata": {
        "colab": {
          "base_uri": "https://localhost:8080/"
        },
        "id": "fd1KQEVM6dYi",
        "outputId": "3f261822-ac16-4cb8-b9f0-e3d084283539"
      },
      "execution_count": null,
      "outputs": [
        {
          "output_type": "stream",
          "name": "stdout",
          "text": [
            "Hola Mundo\n",
            "HolaMundo\n",
            "Hola-Mundo\n",
            "HolaMundo\n"
          ]
        }
      ]
    },
    {
      "cell_type": "code",
      "source": [
        "nombre = \"José\"\n",
        "carrera = \"ICO, la mejor\"\n",
        "print(\"Mi nombre es {} y estudio {} en la FES Aragón\".format(nombre, carrera))\n",
        "print(f\"Mi nombre es {nombre*2} y estudio en {carrera} dentro de la FES\")"
      ],
      "metadata": {
        "colab": {
          "base_uri": "https://localhost:8080/"
        },
        "id": "iG-v-uJ46dXY",
        "outputId": "951914fc-1f62-4cd3-aab9-237c5b5dd669"
      },
      "execution_count": null,
      "outputs": [
        {
          "output_type": "stream",
          "name": "stdout",
          "text": [
            "Mi nombre es José y estudio ICO, la mejor en la FES Aragón\n",
            "Mi nombre es JoséJosé y estudio en ICO, la mejor dentro de la FES\n"
          ]
        }
      ]
    },
    {
      "cell_type": "code",
      "source": [
        "# Operadores aritméticos\n",
        "suma = 5 + 3    # 8\n",
        "resta = 5 - 3   # 2\n",
        "producto = 5 * 3  # 15\n",
        "division = 5 / 3  # 1.66667\n",
        "division2 = 5 // 3 # 1\n",
        "modulo = 5 % 3   # 2\n",
        "potencia = 5 ** 3  # 125"
      ],
      "metadata": {
        "id": "Id45A1GR-flw"
      },
      "execution_count": null,
      "outputs": []
    },
    {
      "cell_type": "code",
      "source": [
        "division"
      ],
      "metadata": {
        "colab": {
          "base_uri": "https://localhost:8080/"
        },
        "id": "gmXQiZB8_JB8",
        "outputId": "43d8feb8-f4d0-414c-cf1a-4fd585c0c752"
      },
      "execution_count": null,
      "outputs": [
        {
          "output_type": "execute_result",
          "data": {
            "text/plain": [
              "1.6666666666666667"
            ]
          },
          "metadata": {},
          "execution_count": 21
        }
      ]
    },
    {
      "cell_type": "code",
      "source": [
        "# Operadores de comparación\n",
        "igual = 5 == 3  # False\n",
        "diferente = 5 != 3  # True\n",
        "mayor_que = 5 > 3  # True\n",
        "menor_que = 5 < 3  # False\n",
        "mayor_o_igual_que = 5 >= 3  # True\n",
        "menor_o_igual_que = 5 <= 3  # False"
      ],
      "metadata": {
        "id": "sdlmVg_w_Z7L"
      },
      "execution_count": null,
      "outputs": []
    },
    {
      "cell_type": "code",
      "source": [
        "igual"
      ],
      "metadata": {
        "colab": {
          "base_uri": "https://localhost:8080/"
        },
        "id": "2kkWzPkW_p1v",
        "outputId": "ae4a5763-3744-4e07-d58a-2f1b9cea55fe"
      },
      "execution_count": null,
      "outputs": [
        {
          "output_type": "execute_result",
          "data": {
            "text/plain": [
              "False"
            ]
          },
          "metadata": {},
          "execution_count": 24
        }
      ]
    },
    {
      "cell_type": "code",
      "source": [
        "# Operadores lógicos\n",
        "y = True and False  # False\n",
        "o = True or False  # True\n",
        "no = not True  # False"
      ],
      "metadata": {
        "id": "-TUvEfY3_pyX"
      },
      "execution_count": null,
      "outputs": []
    },
    {
      "cell_type": "code",
      "source": [
        "True and (True and False)"
      ],
      "metadata": {
        "colab": {
          "base_uri": "https://localhost:8080/"
        },
        "id": "T7uaI8Me_ptk",
        "outputId": "d2f7a5f2-b26b-4977-8599-d80db5ddfe95"
      },
      "execution_count": null,
      "outputs": [
        {
          "output_type": "execute_result",
          "data": {
            "text/plain": [
              "False"
            ]
          },
          "metadata": {},
          "execution_count": 31
        }
      ]
    },
    {
      "cell_type": "code",
      "source": [
        "saludo = \"Hola Mundo\"\n",
        "cita = 'Los alumnos de ICO dicen: \"Hola Mundo\"'\n",
        "parrafo = \"\"\"Esto es un párrafo\n",
        "que abarca varias\n",
        "líneas\"\"\""
      ],
      "metadata": {
        "id": "VdSKEgIBACl-"
      },
      "execution_count": null,
      "outputs": []
    },
    {
      "cell_type": "code",
      "source": [
        "print(cita)"
      ],
      "metadata": {
        "id": "_PU5IbbUACiq",
        "colab": {
          "base_uri": "https://localhost:8080/"
        },
        "outputId": "326efc46-38af-4324-988e-79bc6763ed57"
      },
      "execution_count": null,
      "outputs": [
        {
          "output_type": "stream",
          "name": "stdout",
          "text": [
            "Los alumnos de ICO dicen: \"Hola Mundo\"\n"
          ]
        }
      ]
    },
    {
      "cell_type": "code",
      "source": [
        "def fn_uno():\n",
        "    print(\"Hola\")\n",
        " \n",
        "a, b, c = 10, \"Hola\", fn_uno\n",
        "print(a)\n",
        "print(b)\n",
        "print(c)\n",
        "\n",
        "c.__call__()"
      ],
      "metadata": {
        "id": "HpNdTRUfACfb",
        "colab": {
          "base_uri": "https://localhost:8080/"
        },
        "outputId": "d75edab8-faea-4b28-fb9a-c4e960b91614"
      },
      "execution_count": 36,
      "outputs": [
        {
          "output_type": "stream",
          "name": "stdout",
          "text": [
            "10\n",
            "Hola\n",
            "<function fn_uno at 0x7f617584b9a0>\n",
            "Hola\n"
          ]
        }
      ]
    },
    {
      "cell_type": "code",
      "source": [
        "# entrada por teclado\n",
        "nombre = input(\"Por favor, introduce tu nombre: \")\n",
        "print(f\"Hola {nombre}!\")"
      ],
      "metadata": {
        "colab": {
          "base_uri": "https://localhost:8080/"
        },
        "id": "EuePHYaBCM3H",
        "outputId": "6cabf072-58a8-41f0-f65f-3e664f70dc91"
      },
      "execution_count": 37,
      "outputs": [
        {
          "output_type": "stream",
          "name": "stdout",
          "text": [
            "Por favor, introduce tu nombre: Angel\n",
            "Hola Angel!\n"
          ]
        }
      ]
    },
    {
      "cell_type": "code",
      "source": [
        "numero = int(\"20\") #Casting\n",
        "print(numero)"
      ],
      "metadata": {
        "colab": {
          "base_uri": "https://localhost:8080/"
        },
        "id": "YCiS2dlhDcDG",
        "outputId": "1b312dac-4242-4a7f-ebd8-20b0fb1cc33f"
      },
      "execution_count": 45,
      "outputs": [
        {
          "output_type": "stream",
          "name": "stdout",
          "text": [
            "20\n"
          ]
        }
      ]
    },
    {
      "cell_type": "code",
      "source": [
        "edad = int(input(\"Introduce tu edad:\"))\n",
        "print(f\"{nombre} tiene {edad} años\")"
      ],
      "metadata": {
        "id": "BPPqdraRACaa",
        "colab": {
          "base_uri": "https://localhost:8080/"
        },
        "outputId": "630fb6bc-61b1-4d07-a85d-ff81c5eb0c82"
      },
      "execution_count": 41,
      "outputs": [
        {
          "output_type": "stream",
          "name": "stdout",
          "text": [
            "Introduce tu edad:21\n",
            "Angel tiene 21 años\n"
          ]
        }
      ]
    },
    {
      "cell_type": "code",
      "source": [
        "mensaje = \"Hola Mundo\"  # String\n",
        "edad = 20               # Integer\n",
        "pi = 3.14159            # Float\n",
        "es_mayor = True         # Boolean\n",
        "imaginario = 3 + 4j     # Imaginario"
      ],
      "metadata": {
        "id": "5x1DB-NZDmvP"
      },
      "execution_count": 46,
      "outputs": []
    },
    {
      "cell_type": "code",
      "source": [
        "mensaje"
      ],
      "metadata": {
        "colab": {
          "base_uri": "https://localhost:8080/",
          "height": 35
        },
        "id": "edtzSO40Dmou",
        "outputId": "7aa151f0-a74a-4d2e-8d95-2f7ba5591f5e"
      },
      "execution_count": 48,
      "outputs": [
        {
          "output_type": "execute_result",
          "data": {
            "text/plain": [
              "'Hola Mundo'"
            ],
            "application/vnd.google.colaboratory.intrinsic+json": {
              "type": "string"
            }
          },
          "metadata": {},
          "execution_count": 48
        }
      ]
    },
    {
      "cell_type": "code",
      "source": [
        "#            0.        1.         2\n",
        "#           -3.       -2.        -1.  | Indexado negativo\n",
        "frutas = ['limon', 'aguacate', 'fresa']\n",
        "print(frutas[2])\n",
        "print(frutas[-1])"
      ],
      "metadata": {
        "colab": {
          "base_uri": "https://localhost:8080/"
        },
        "id": "jwzxZuGiEwSL",
        "outputId": "87159239-c37b-4de4-bd8e-14a16b74d91d"
      },
      "execution_count": 53,
      "outputs": [
        {
          "output_type": "stream",
          "name": "stdout",
          "text": [
            "fresa\n",
            "fresa\n"
          ]
        }
      ]
    },
    {
      "cell_type": "code",
      "source": [
        "cosas = ['limon', 10, 3.1416, True, [1,2,3,4], \"Hola\"]\n",
        "print(cosas)"
      ],
      "metadata": {
        "colab": {
          "base_uri": "https://localhost:8080/"
        },
        "id": "PmQX7aaaEwHj",
        "outputId": "ce9742f3-f78d-42b6-a7e4-dbdb657d9465"
      },
      "execution_count": 54,
      "outputs": [
        {
          "output_type": "stream",
          "name": "stdout",
          "text": [
            "['limon', 10, 3.1416, True, [1, 2, 3, 4], 'Hola']\n"
          ]
        }
      ]
    },
    {
      "cell_type": "markdown",
      "source": [
        "# Slicing en python\n",
        "\n",
        "[ inicio : stop : step ]\n",
        "\n",
        "Posibilidad de obtener rebanadas a partir de un tipo de dato lista o tupla, en general, de un iterable.\n",
        "\n",
        "Un tipo de dato string es un iterable. \n",
        "\n",
        "Por defecto:\n",
        "\n",
        "inicio = 0\n",
        "\n",
        "stop = Tamaño de la variable\n",
        "\n",
        "step = 1 (1 en 1, 2 en 2, etc)\n",
        "\n"
      ],
      "metadata": {
        "id": "k0mUSnGjF-60"
      }
    },
    {
      "cell_type": "markdown",
      "source": [],
      "metadata": {
        "id": "j9xWW4RVF-5V"
      }
    },
    {
      "cell_type": "code",
      "source": [
        "ejemplo = [1,2,3,4,5,6, 'a','b','c','d','e']\n",
        "print(ejemplo)"
      ],
      "metadata": {
        "colab": {
          "base_uri": "https://localhost:8080/"
        },
        "id": "AM5Piom9FzHy",
        "outputId": "702a126c-7534-4c39-a2e7-27c6b73b1124"
      },
      "execution_count": 55,
      "outputs": [
        {
          "output_type": "stream",
          "name": "stdout",
          "text": [
            "[1, 2, 3, 4, 5, 6, 'a', 'b', 'c', 'd', 'e']\n"
          ]
        }
      ]
    },
    {
      "cell_type": "code",
      "source": [
        "rebanada = ejemplo[2:6:1]\n",
        "print(rebanada)"
      ],
      "metadata": {
        "colab": {
          "base_uri": "https://localhost:8080/"
        },
        "id": "7Yz0_Kp4FzAK",
        "outputId": "d6d84653-6415-4575-cc18-e9a67d317f84"
      },
      "execution_count": 58,
      "outputs": [
        {
          "output_type": "stream",
          "name": "stdout",
          "text": [
            "[3, 4, 5, 6]\n"
          ]
        }
      ]
    },
    {
      "cell_type": "code",
      "source": [
        "rebanada = ejemplo[6:9:1]\n",
        "print(rebanada)"
      ],
      "metadata": {
        "colab": {
          "base_uri": "https://localhost:8080/"
        },
        "id": "_lXlihwkHexT",
        "outputId": "4260cfc9-7da9-4d70-9911-8066de988e45"
      },
      "execution_count": 59,
      "outputs": [
        {
          "output_type": "stream",
          "name": "stdout",
          "text": [
            "['a', 'b', 'c']\n"
          ]
        }
      ]
    },
    {
      "cell_type": "code",
      "source": [
        "#Tuplas - Inmutables\n",
        "\n",
        "frutas_2 = ('aguacate', 'limon', 'naranja')\n",
        "print(frutas)\n",
        "print(frutas_2)\n",
        "\n",
        "frutas[1] = 'Piña'\n",
        "#frutas_2[1] = 'Piña' -> Error en tupla, inmutable\n",
        "\n",
        "print(frutas[1])\n",
        "print(frutas_2[1])\n",
        "\n",
        "print(frutas_2[1:2:1])\n",
        "\n",
        "print(frutas_2[-1])"
      ],
      "metadata": {
        "colab": {
          "base_uri": "https://localhost:8080/"
        },
        "id": "Q7XOOwVjHemH",
        "outputId": "82fc9bd4-5cbc-41cc-b7d0-fe05ab8165d3"
      },
      "execution_count": 66,
      "outputs": [
        {
          "output_type": "stream",
          "name": "stdout",
          "text": [
            "['limon', 'Piña', 'fresa']\n",
            "('aguacate', 'limon', 'naranja')\n",
            "Piña\n",
            "limon\n",
            "('limon',)\n",
            "naranja\n"
          ]
        }
      ]
    },
    {
      "cell_type": "markdown",
      "source": [
        "#Diccionarios\n",
        "\n",
        "Conjunto de pares llave - valor, agrupados por ':'\n",
        "\n",
        "- La llave es siempre de tipo string.\n",
        "\n",
        "- El valor puede ser de cualquier tipo.\n",
        "\n",
        "- El selector es de la forma ['llave']\n",
        "\n",
        "- Es mutable\n",
        "\n",
        "Se declara entre los caracteres '{' y '}'\n",
        "\n",
        "Los pares estan separados por comas.\n"
      ],
      "metadata": {
        "id": "Gg8R0HksKEy1"
      }
    },
    {
      "cell_type": "code",
      "source": [
        "alumno = {'numero_cuenta' : 123456, \n",
        "          'carrera' : 'ICO', \n",
        "          'direccion' : {'calle' : 'Rancho seco', 'numero' : 23}\n",
        "          }\n",
        "          \n",
        "print(alumno)"
      ],
      "metadata": {
        "colab": {
          "base_uri": "https://localhost:8080/"
        },
        "id": "udFgzXILJn1X",
        "outputId": "452d6758-78d6-4caa-ab89-75f98fa7d982"
      },
      "execution_count": 71,
      "outputs": [
        {
          "output_type": "stream",
          "name": "stdout",
          "text": [
            "{'numero_cuenta': 123456, 'carrera': 'ICO', 'direccion': {'calle': 'Rancho seco', 'numero': 23}}\n"
          ]
        }
      ]
    },
    {
      "cell_type": "code",
      "source": [
        "print(alumno['carrera'])\n",
        "\n",
        "print(alumno['direccion'])\n",
        "\n",
        "#Como imprimir el 23 de la direccion\n",
        "print(alumno['direccion']['numero'])\n",
        "\n",
        "#Como imprimir ‘cho’ de la calle\n",
        "print(alumno['direccion']['calle'][3:6:1])"
      ],
      "metadata": {
        "colab": {
          "base_uri": "https://localhost:8080/"
        },
        "id": "JUDFlyvwJn0K",
        "outputId": "a244b3e7-2c2e-46b1-921e-fdc75d1b7cda"
      },
      "execution_count": 78,
      "outputs": [
        {
          "output_type": "stream",
          "name": "stdout",
          "text": [
            "ICO\n",
            "{'calle': 'Rancho seco', 'numero': 23}\n",
            "23\n",
            "cho\n"
          ]
        }
      ]
    }
  ]
}